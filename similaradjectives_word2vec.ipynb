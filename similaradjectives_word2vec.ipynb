{
  "nbformat": 4,
  "nbformat_minor": 0,
  "metadata": {
    "colab": {
      "provenance": [],
      "gpuType": "T4",
      "authorship_tag": "ABX9TyNAhNR11bHwwcQUyCHG7ueN",
      "include_colab_link": true
    },
    "kernelspec": {
      "name": "python3",
      "display_name": "Python 3"
    },
    "language_info": {
      "name": "python"
    },
    "accelerator": "GPU"
  },
  "cells": [
    {
      "cell_type": "markdown",
      "metadata": {
        "id": "view-in-github",
        "colab_type": "text"
      },
      "source": [
        "<a href=\"https://colab.research.google.com/github/natalja-s/encoded-inequality-thesis/blob/main/similaradjectives_word2vec.ipynb\" target=\"_parent\"><img src=\"https://colab.research.google.com/assets/colab-badge.svg\" alt=\"Open In Colab\"/></a>"
      ]
    },
    {
      "cell_type": "code",
      "source": [
        "pip uninstall -y numpy scipy gensim tsfresh thinc"
      ],
      "metadata": {
        "colab": {
          "base_uri": "https://localhost:8080/"
        },
        "id": "_MMb2zGePRay",
        "outputId": "1528ef9a-aa09-4d8c-cba5-1075f1b45c5e",
        "collapsed": true
      },
      "execution_count": null,
      "outputs": [
        {
          "output_type": "stream",
          "name": "stdout",
          "text": [
            "Found existing installation: numpy 1.24.4\n",
            "Uninstalling numpy-1.24.4:\n",
            "  Successfully uninstalled numpy-1.24.4\n",
            "Found existing installation: scipy 1.10.1\n",
            "Uninstalling scipy-1.10.1:\n",
            "  Successfully uninstalled scipy-1.10.1\n",
            "Found existing installation: gensim 4.3.1\n",
            "Uninstalling gensim-4.3.1:\n",
            "  Successfully uninstalled gensim-4.3.1\n",
            "\u001b[33mWARNING: Skipping tsfresh as it is not installed.\u001b[0m\u001b[33m\n",
            "\u001b[0m\u001b[33mWARNING: Skipping thinc as it is not installed.\u001b[0m\u001b[33m\n",
            "\u001b[0m"
          ]
        }
      ]
    },
    {
      "cell_type": "code",
      "source": [
        "pip install numpy==1.24.4 scipy==1.10.1 gensim==4.3.1"
      ],
      "metadata": {
        "colab": {
          "base_uri": "https://localhost:8080/",
          "height": 558
        },
        "id": "dA_q0dq0PScX",
        "outputId": "68e50ddc-bdd3-455e-ec5a-01a54ea6e71a",
        "collapsed": true
      },
      "execution_count": null,
      "outputs": [
        {
          "output_type": "stream",
          "name": "stdout",
          "text": [
            "Collecting numpy==1.24.4\n",
            "  Using cached numpy-1.24.4-cp311-cp311-manylinux_2_17_x86_64.manylinux2014_x86_64.whl.metadata (5.6 kB)\n",
            "Collecting scipy==1.10.1\n",
            "  Using cached scipy-1.10.1-cp311-cp311-manylinux_2_17_x86_64.manylinux2014_x86_64.whl.metadata (58 kB)\n",
            "Collecting gensim==4.3.1\n",
            "  Using cached gensim-4.3.1-cp311-cp311-manylinux_2_17_x86_64.manylinux2014_x86_64.whl.metadata (8.4 kB)\n",
            "Requirement already satisfied: smart-open>=1.8.1 in /usr/local/lib/python3.11/dist-packages (from gensim==4.3.1) (7.1.0)\n",
            "Requirement already satisfied: wrapt in /usr/local/lib/python3.11/dist-packages (from smart-open>=1.8.1->gensim==4.3.1) (1.17.2)\n",
            "Using cached numpy-1.24.4-cp311-cp311-manylinux_2_17_x86_64.manylinux2014_x86_64.whl (17.3 MB)\n",
            "Using cached scipy-1.10.1-cp311-cp311-manylinux_2_17_x86_64.manylinux2014_x86_64.whl (34.1 MB)\n",
            "Using cached gensim-4.3.1-cp311-cp311-manylinux_2_17_x86_64.manylinux2014_x86_64.whl (26.6 MB)\n",
            "Installing collected packages: numpy, scipy, gensim\n",
            "\u001b[31mERROR: pip's dependency resolver does not currently take into account all the packages that are installed. This behaviour is the source of the following dependency conflicts.\n",
            "spacy 3.8.5 requires thinc<8.4.0,>=8.3.4, which is not installed.\n",
            "jax 0.5.2 requires numpy>=1.25, but you have numpy 1.24.4 which is incompatible.\n",
            "jax 0.5.2 requires scipy>=1.11.1, but you have scipy 1.10.1 which is incompatible.\n",
            "treescope 0.1.9 requires numpy>=1.25.2, but you have numpy 1.24.4 which is incompatible.\n",
            "cvxpy 1.6.5 requires scipy>=1.11.0, but you have scipy 1.10.1 which is incompatible.\n",
            "pymc 5.22.0 requires numpy>=1.25.0, but you have numpy 1.24.4 which is incompatible.\n",
            "blosc2 3.3.2 requires numpy>=1.26, but you have numpy 1.24.4 which is incompatible.\n",
            "scikit-image 0.25.2 requires scipy>=1.11.4, but you have scipy 1.10.1 which is incompatible.\n",
            "jaxlib 0.5.1 requires numpy>=1.25, but you have numpy 1.24.4 which is incompatible.\n",
            "jaxlib 0.5.1 requires scipy>=1.11.1, but you have scipy 1.10.1 which is incompatible.\n",
            "tensorflow 2.18.0 requires numpy<2.1.0,>=1.26.0, but you have numpy 1.24.4 which is incompatible.\u001b[0m\u001b[31m\n",
            "\u001b[0mSuccessfully installed gensim-4.3.1 numpy-1.24.4 scipy-1.10.1\n"
          ]
        },
        {
          "output_type": "display_data",
          "data": {
            "application/vnd.colab-display-data+json": {
              "pip_warning": {
                "packages": [
                  "numpy"
                ]
              },
              "id": "ea6ba3ac64bf4dea9ac7dc28b785508d"
            }
          },
          "metadata": {}
        }
      ]
    },
    {
      "cell_type": "code",
      "source": [
        "# Import of Necessary Libraries\n",
        "import gensim\n",
        "import numpy as np\n",
        "import matplotlib.pyplot as plt"
      ],
      "metadata": {
        "id": "HfdVCoREPqtf"
      },
      "execution_count": null,
      "outputs": []
    },
    {
      "cell_type": "code",
      "source": [
        "# Installing and Importing Required Libraries to work with Word2Vec\n",
        "!pip install gensim numpy matplotlib"
      ],
      "metadata": {
        "colab": {
          "base_uri": "https://localhost:8080/"
        },
        "id": "BiLi9kjtPuOw",
        "outputId": "a11a970b-9b6f-42fc-b0fa-5391aacee693"
      },
      "execution_count": null,
      "outputs": [
        {
          "output_type": "stream",
          "name": "stdout",
          "text": [
            "Requirement already satisfied: gensim in /usr/local/lib/python3.11/dist-packages (4.3.1)\n",
            "Requirement already satisfied: numpy in /usr/local/lib/python3.11/dist-packages (1.24.4)\n",
            "Requirement already satisfied: matplotlib in /usr/local/lib/python3.11/dist-packages (3.10.0)\n",
            "Requirement already satisfied: scipy>=1.7.0 in /usr/local/lib/python3.11/dist-packages (from gensim) (1.10.1)\n",
            "Requirement already satisfied: smart-open>=1.8.1 in /usr/local/lib/python3.11/dist-packages (from gensim) (7.1.0)\n",
            "Requirement already satisfied: contourpy>=1.0.1 in /usr/local/lib/python3.11/dist-packages (from matplotlib) (1.3.2)\n",
            "Requirement already satisfied: cycler>=0.10 in /usr/local/lib/python3.11/dist-packages (from matplotlib) (0.12.1)\n",
            "Requirement already satisfied: fonttools>=4.22.0 in /usr/local/lib/python3.11/dist-packages (from matplotlib) (4.58.0)\n",
            "Requirement already satisfied: kiwisolver>=1.3.1 in /usr/local/lib/python3.11/dist-packages (from matplotlib) (1.4.8)\n",
            "Requirement already satisfied: packaging>=20.0 in /usr/local/lib/python3.11/dist-packages (from matplotlib) (24.2)\n",
            "Requirement already satisfied: pillow>=8 in /usr/local/lib/python3.11/dist-packages (from matplotlib) (11.2.1)\n",
            "Requirement already satisfied: pyparsing>=2.3.1 in /usr/local/lib/python3.11/dist-packages (from matplotlib) (3.2.3)\n",
            "Requirement already satisfied: python-dateutil>=2.7 in /usr/local/lib/python3.11/dist-packages (from matplotlib) (2.9.0.post0)\n",
            "Requirement already satisfied: six>=1.5 in /usr/local/lib/python3.11/dist-packages (from python-dateutil>=2.7->matplotlib) (1.17.0)\n",
            "Requirement already satisfied: wrapt in /usr/local/lib/python3.11/dist-packages (from smart-open>=1.8.1->gensim) (1.17.2)\n"
          ]
        }
      ]
    },
    {
      "cell_type": "code",
      "source": [
        "# Mount Google Drive to Colab\n",
        "from google.colab import drive\n",
        "drive.mount('/content/drive')"
      ],
      "metadata": {
        "colab": {
          "base_uri": "https://localhost:8080/"
        },
        "id": "KK6kz7ucOyjt",
        "outputId": "a3c7416c-f312-4d41-9eb7-89aace8c6ab9"
      },
      "execution_count": null,
      "outputs": [
        {
          "output_type": "stream",
          "name": "stdout",
          "text": [
            "Mounted at /content/drive\n"
          ]
        }
      ]
    },
    {
      "cell_type": "code",
      "source": [
        "# Loading Pre-Trained Word2Vec Model\n",
        "from gensim.models import Word2Vec\n",
        "\n",
        "model = Word2Vec.load('path/to/wiki_300_50_word2vec.model')"
      ],
      "metadata": {
        "id": "oW0IkmBGP4m3"
      },
      "execution_count": null,
      "outputs": []
    },
    {
      "cell_type": "code",
      "source": [
        "masculine_adjectives = [\n",
        "    \"active\", \"energetic\", \"strong\", \"willful\", \"firm\", \"brave\", \"bold\", \"independent\",\n",
        "    \"striving\", \"goal-oriented\", \"effective\", \"giving\", \"assertive\", \"forceful\",\n",
        "    \"antagonistic\", \"rational\", \"intellectual\", \"thoughtful\", \"knowledgeable\", \"abstract\",\n",
        "    \"judging\", \"virtuous\", \"dignified\"\n",
        "]\n",
        "\n",
        "feminine_adjectives = [\n",
        "    \"interior\", \"intimate\", \"domestic\", \"busy\", \"industrious\", \"passive\", \"weak\",\n",
        "    \"submissive\", \"devoted\", \"fickle\", \"modest\", \"dependent\", \"preserving\", \"receptive\",\n",
        "    \"self-denying\", \"adaptive\", \"loving\", \"kind\", \"sympathetic\", \"emotional\", \"sensitive\",\n",
        "    \"religious\", \"understanding\", \"virtuous\", \"modest\", \"chaste\", \"decent\", \"amiable\",\n",
        "    \"tactful\", \"aesthetic\", \"graceful\", \"beautiful\"\n",
        "]\n",
        "\n",
        "# Merge and deduplicate for processing\n",
        "all_adjectives = list(set(masculine_adjectives + feminine_adjectives))\n"
      ],
      "metadata": {
        "id": "8DCdz6I6QZaT"
      },
      "execution_count": null,
      "outputs": []
    },
    {
      "cell_type": "code",
      "source": [
        "def get_similar_adjectives(word, topn=10):\n",
        "    try:\n",
        "        # Get similar words using the word vector\n",
        "        # model.wv.most_similar returns a list of (word, score) tuples\n",
        "        similar_words = model.wv.most_similar(word, topn=topn) # Use word directly, not get_vector\n",
        "        # Iterate through the tuples and access the word (index 0) and score (index 1)\n",
        "        return [(word_str, round(score, 3)) for word_str, score in similar_words if word_str.isalpha()]\n",
        "    except KeyError:\n",
        "        # Handle cases where the word is not in the vocabulary\n",
        "        print(f\"Warning: Word '{word}' not found in vocabulary.\")\n",
        "        return []\n",
        "\n",
        "# Generate similar adjectives for each one in your list\n",
        "similar_adjectives_dict = {}\n",
        "\n",
        "for adj in all_adjectives:\n",
        "    # Lowercase the adjective before checking\n",
        "    similar_adjectives = get_similar_adjectives(adj.lower())\n",
        "    similar_adjectives_dict[adj] = similar_adjectives\n",
        "\n",
        "# Optional: Pretty print a few results\n",
        "# Check if similar_adjectives_dict is not empty before trying to iterate\n",
        "if similar_adjectives_dict:\n",
        "    for adj, similars in list(similar_adjectives_dict.items())[:5]:\n",
        "        # Print only the words from the similar list\n",
        "        print(f\"{adj}: {[w for w, _ in similars]}\")\n",
        "else:\n",
        "    print(\"No similar adjectives found for any word.\")"
      ],
      "metadata": {
        "colab": {
          "base_uri": "https://localhost:8080/"
        },
        "id": "RCnw6EdVQ65A",
        "outputId": "58a156d7-4371-4f5d-9e15-6f412d461e92"
      },
      "execution_count": null,
      "outputs": [
        {
          "output_type": "stream",
          "name": "stdout",
          "text": [
            "Warning: Word 'goal-oriented' not found in vocabulary.\n",
            "Warning: Word 'self-denying' not found in vocabulary.\n",
            "devoted: ['devotes', 'devoting', 'dedicated', 'dedicates', 'devote', 'dedicate', 'dedicating', 'focused', 'contributed']\n",
            "intimate: ['intimacy', 'sensual', 'introspective', 'extramarital', 'amorous', 'sensuous', 'vivid', 'lovemaking', 'alluring']\n",
            "industrious: ['enterprising', 'hardworking', 'resourceful', 'conscientious', 'amiable', 'prosperous', 'diligent', 'studious', 'hospitable', 'illiterate']\n",
            "fickle: ['flighty', 'haughty', 'foolish', 'conceited', 'timid', 'prideful', 'impetuous', 'gullible', 'temperamental', 'arrogant']\n",
            "giving: ['gave', 'give', 'gives', 'providing', 'putting', 'taking', 'allowing', 'making', 'calling', 'given']\n"
          ]
        }
      ]
    },
    {
      "cell_type": "code",
      "source": [
        "def get_similar_adjectives(word, topn=10):\n",
        "    try:\n",
        "        # Get similar words using the word vector\n",
        "        # model.wv.most_similar returns a list of (word, score) tuples\n",
        "        similar_words = model.wv.most_similar(word, topn=topn) # Use word directly, not get_vector\n",
        "        # Iterate through the tuples and access the word (index 0) and score (index 1)\n",
        "        return [(word_str, round(score, 3)) for word_str, score in similar_words if word_str.isalpha()]\n",
        "    except KeyError:\n",
        "        # Handle cases where the word is not in the vocabulary\n",
        "        print(f\"Warning: Word '{word}' not found in vocabulary.\")\n",
        "        return []\n",
        "\n",
        "# Generate similar adjectives for each one in your list\n",
        "similar_adjectives_dict = {}\n",
        "\n",
        "for adj in all_adjectives:\n",
        "    # Lowercase the adjective before checking\n",
        "    similar_adjectives = get_similar_adjectives(adj.lower())\n",
        "    similar_adjectives_dict[adj] = similar_adjectives\n",
        "\n",
        "# Optional: Pretty print all results (or as many as you like)\n",
        "# Check if similar_adjectives_dict is not empty before trying to iterate\n",
        "if similar_adjectives_dict:\n",
        "    # Remove the slicing to print all entries\n",
        "    for adj, similars in similar_adjectives_dict.items():\n",
        "        # Print only the words from the similar list\n",
        "        # Check if there are any similar words before printing\n",
        "        if similars:\n",
        "            print(f\"{adj}: {[w for w, _ in similars]}\")\n",
        "else:\n",
        "    print(\"No similar adjectives found for any word.\")"
      ],
      "metadata": {
        "colab": {
          "base_uri": "https://localhost:8080/"
        },
        "id": "tg5xi35KRj3i",
        "outputId": "b5cca056-8fc5-473d-a696-52d893ffec00"
      },
      "execution_count": null,
      "outputs": [
        {
          "output_type": "stream",
          "name": "stdout",
          "text": [
            "Warning: Word 'goal-oriented' not found in vocabulary.\n",
            "Warning: Word 'self-denying' not found in vocabulary.\n",
            "devoted: ['devotes', 'devoting', 'dedicated', 'dedicates', 'devote', 'dedicate', 'dedicating', 'focused', 'contributed']\n",
            "intimate: ['intimacy', 'sensual', 'introspective', 'extramarital', 'amorous', 'sensuous', 'vivid', 'lovemaking', 'alluring']\n",
            "industrious: ['enterprising', 'hardworking', 'resourceful', 'conscientious', 'amiable', 'prosperous', 'diligent', 'studious', 'hospitable', 'illiterate']\n",
            "fickle: ['flighty', 'haughty', 'foolish', 'conceited', 'timid', 'prideful', 'impetuous', 'gullible', 'temperamental', 'arrogant']\n",
            "giving: ['gave', 'give', 'gives', 'providing', 'putting', 'taking', 'allowing', 'making', 'calling', 'given']\n",
            "domestic: ['domestically', 'international', 'dchampions', 'poultry', 'cups', 'foreign']\n",
            "preserving: ['conserving', 'restoring', 'maintaining', 'preserves', 'preserve', 'enhancing', 'reconstructing', 'preservation', 'improving', 'revitalizing']\n",
            "loving: ['love', 'caring', 'loved', 'dearest', 'motherly', 'lovin', 'gentle', 'tenderly', 'warmhearted', 'gentleness']\n",
            "religious: ['secular', 'nonreligious', 'catholic', 'protestant', 'catholicism', 'denominational', 'spiritual', 'religion', 'judaism']\n",
            "modest: ['modestly', 'generous', 'lavish', 'comparatively', 'unassuming', 'austere', 'remarkable', 'substantial', 'meagre', 'commodious']\n",
            "aesthetic: ['aesthetics', 'esthetic', 'aesthetical', 'sensibility', 'esthetics', 'individualistic', 'individuality', 'aesthetically', 'painterly']\n",
            "firm: ['firms', 'llp', 'pllc', 'dentons']\n",
            "sensitive: ['insensitive', 'sensitivity', 'responsive', 'delicate', 'susceptible', 'tolerant', 'vulnerable', 'volatile', 'desirable', 'hypersensitive']\n",
            "judging: ['judged', 'inferring', 'evidenced', 'examining', 'questioning', 'commenting', 'disregarding', 'prejudging', 'perusal', 'perusing']\n",
            "forceful: ['vigorous', 'strident', 'forthright', 'assertive', 'aggressive', 'uncompromising', 'eloquent', 'skillful', 'unyielding', 'vehement']\n",
            "busy: ['hectic', 'busier', 'tired', 'bored', 'tiring', 'frustrated', 'impatient', 'annoyed', 'quiet', 'bustling']\n",
            "brave: ['courageous', 'bravest', 'fearless', 'resourceful', 'mighty', 'chivalrous', 'gallant', 'heroic']\n",
            "receptive: ['sympathetic', 'unreceptive', 'attuned', 'attentive', 'stimulating', 'amenable', 'appreciative', 'extroverted', 'responsive', 'supportive']\n",
            "rational: ['logical', 'rationality', 'irrational', 'transcendental', 'analytic', 'justificatory', 'axiomatic', 'mereological', 'rationally', 'intuitive']\n",
            "passive: ['passively', 'electrolocation', 'mediopassive', 'antipassive', 'periphrastically']\n",
            "emotional: ['emotion', 'emotions', 'empathy', 'affective', 'anxiety', 'emotionally', 'interpersonal', 'intimacy', 'empathetic', 'emotive']\n",
            "weak: ['strong', 'oppose', 'weakly', 'keep', 'weakish', 'deletekeep', 'hmmm', 'opppose']\n",
            "understanding: ['knowledge', 'understandings', 'comprehension', 'understand', 'interpretation', 'grasp', 'knowlege', 'elucidation', 'familiarity', 'perception']\n",
            "energetic: ['playful', 'ebullient', 'cheerful', 'extroverted', 'forceful', 'exuberant', 'easygoing', 'upbeat', 'assertive', 'resourceful']\n",
            "striving: ['strive', 'strives', 'strived', 'strove', 'endeavoring', 'striven', 'aiming', 'eager', 'desiring', 'seeking']\n",
            "abstract: ['representational', 'figurative', 'abstraction', 'abstractions', 'nonrepresentational', 'conceptual', 'gestural', 'biomorphic', 'abstractionist']\n",
            "dignified: ['respectful', 'graceful', 'befitting', 'unostentatious', 'mannered', 'gracious', 'amiable', 'forthright', 'austere']\n",
            "submissive: ['obedient', 'subservient', 'sexualized', 'eroticized', 'effeminate', 'domineering', 'submissiveness', 'assertive', 'demure']\n",
            "sympathetic: ['supportive', 'sympathetically', 'unsympathetic', 'receptive', 'deferential', 'antagonistic', 'empathetic', 'forceful', 'irritated', 'ambivalent']\n",
            "active: ['inactive', 'present', 'actively']\n",
            "decent: ['respectable', 'lousy', 'reasonable', 'good', 'crappy', 'terrific', 'mediocre', 'nice', 'reasonably', 'worthwhile']\n",
            "antagonistic: ['antagonism', 'antagonizing', 'arrogant', 'aggressive', 'manipulative', 'confrontational', 'overbearing', 'duplicitous', 'antagonize', 'hostile']\n",
            "dependent: ['dependant', 'depend', 'depends', 'depended', 'dependence', 'depending', 'reliant', 'relies', 'predicated']\n",
            "effective: ['efficient', 'ineffective', 'effectiveness', 'optimal', 'effectively', 'effect', 'beneficial', 'efficacious', 'necessary', 'flexible']\n",
            "assertive: ['empathetic', 'forthright', 'forceful', 'aggressive', 'extroverted', 'confrontational', 'personable', 'arrogant', 'confident']\n",
            "adaptive: ['perceptual', 'robustness', 'predictive', 'stochastic', 'feedforward', 'cognitive', 'adaptiveness', 'mechanisms']\n",
            "strong: ['weak', 'support', 'velvetsmog', 'good', 'oppose', 'strongly', 'jackhorkheimer', 'stronger', 'hornandsoccertalk']\n",
            "thoughtful: ['insightful', 'witty', 'courteous', 'empathetic', 'perceptive', 'unfailingly', 'dispassionate', 'forthright', 'tactful']\n",
            "tactful: ['courteous', 'thoughtful', 'circumspect', 'respectful', 'polite', 'considerate', 'forthright', 'levelheaded', 'personable', 'scrupulous']\n",
            "intellectual: ['philosophic', 'intellectualism', 'intellect', 'thinker', 'humanism', 'moral', 'erudition', 'ideological', 'intellectuality', 'idealism']\n",
            "interior: ['exterior', 'interiors']\n",
            "virtuous: ['virtues', 'chivalrous', 'enlightened', 'obedient', 'worldly', 'sinful', 'benevolence', 'pious', 'wifely', 'uprightness']\n",
            "kind: ['sort', 'sorts', 'really', 'thing', 'kinds', 'basically', 'idea', 'truly', 'kinda', 'feeling']\n",
            "graceful: ['elegant', 'delicate', 'dignified', 'exquisite', 'charming', 'lithe', 'languid', 'pleasing', 'exquisitely', 'splendid']\n",
            "beautiful: ['lovely', 'charming', 'enchanting', 'gorgeous', 'handsome', 'delightful', 'glamorous', 'beauty', 'prettiest']\n",
            "willful: ['wilful', 'willfully', 'negligent', 'flagrant', 'deliberate', 'reckless', 'misrepresentation', 'wrongful', 'dishonesty']\n",
            "bold: ['italics', 'boldface', 'bolded', 'italic', 'bolding', 'italicized']\n",
            "knowledgeable: ['knowledgable', 'versed', 'competent', 'trustworthy', 'conversant', 'knowlegable', 'thoughtful', 'familiar', 'enthusiastic', 'knowlegeable']\n",
            "chaste: ['virtuous', 'pious', 'dignified', 'chivalrous', 'piously', 'decorous', 'chastity', 'lustful', 'obedient', 'dutiful']\n",
            "independent: ['independant', 'indepedent', 'indepenent', 'indepdent', 'indpendent', 'independently', 'indepdendent', 'independet', 'unaffiliated']\n",
            "amiable: ['affable', 'genial', 'easygoing', 'charming', 'affectionate', 'endearing', 'likeable', 'agreeable']\n"
          ]
        }
      ]
    },
    {
      "cell_type": "code",
      "source": [
        "# STEP 0: Install required libraries (run this only once, or comment it out after)\n",
        "!pip install gensim spacy\n",
        "!python -m spacy download en_core_web_sm\n",
        "\n",
        "# STEP 1: Import libraries\n",
        "import spacy\n",
        "# No need to import KeyedVectors if you're using the model loaded by Word2Vec.load earlier\n",
        "import pandas as pd\n",
        "# Assuming gensim and the model were already loaded in previous cells\n",
        "\n",
        "# STEP 2: Load spaCy English model\n",
        "nlp = spacy.load(\"en_core_web_sm\")\n",
        "\n",
        "# STEP 3: The Word2Vec model has already been loaded successfully in a previous cell\n",
        "# using `model = Word2Vec.load(...)`. We will use that `model` object.\n",
        "# model_path = \"/content/drive/MyDrive/THESIS/THESIS ANALYSIS/wiki_300_50_word2vec.model\"\n",
        "# model = KeyedVectors.load_word2vec_format(model_path, binary=True) # REMOVE THIS LINE\n",
        "\n",
        "# STEP 4: Define the adjective lists\n",
        "masculine_adjectives = [\n",
        "    \"active\", \"energetic\", \"strong\", \"willful\", \"firm\", \"brave\", \"bold\", \"independent\",\n",
        "    \"striving\", \"goal-oriented\", \"effective\", \"giving\", \"assertive\", \"forceful\",\n",
        "    \"antagonistic\", \"rational\", \"intellectual\", \"thoughtful\", \"knowledgeable\", \"abstract\",\n",
        "    \"judging\", \"virtuous\", \"dignified\", \"acquisitive\", \"enterprising\", \"ambitious\", \"proactive\", \"decisive\", \"driven\",\n",
        "    \"focused\", \"determined\", \"purposeful\", \"analytical\", \"reflective\", \"logical\",\n",
        "    \"discerning\", \"conceptual\", \"abstracted\", \"evaluative\", \"critical\", \"commanding\",\n",
        "    \"dominant\", \"imposing\", \"combative\", \"defiant\", \"provocative\", \"self-assured\", \"resolute\"\n",
        "]\n",
        "\n",
        "feminine_adjectives = [\n",
        "    \"interior\", \"intimate\", \"domestic\", \"busy\", \"industrious\", \"passive\", \"weak\",\n",
        "    \"submissive\", \"devoted\", \"fickle\", \"modest\", \"dependent\", \"preserving\", \"receptive\",\n",
        "    \"self-denying\", \"adaptive\", \"loving\", \"kind\", \"sympathetic\", \"emotional\", \"sensitive\",\n",
        "    \"religious\", \"understanding\", \"virtuous\", \"modest\", \"chaste\", \"decent\", \"amiable\",\n",
        "    \"tactful\", \"aesthetic\", \"graceful\", \"beautiful\",  \"perceptive\", \"intuitive\", \"impressionable\", \"sacrificial\", \"selfless\", \"yielding\",\n",
        "    \"inert\", \"acquiescent\", \"still\", \"nurturing\", \"warmhearted\", \"gentle\",\n",
        "    \"modest\", \"proper\", \"demure\", \"reserved\", \"soulful\", \"tender\", \"elegant\",\n",
        "    \"refined\", \"delicate\", \"conserving\", \"embracing\"\n",
        "]\n",
        "\n",
        "# Combine and deduplicate\n",
        "all_adjectives = sorted(set(masculine_adjectives + feminine_adjectives))\n",
        "\n",
        "# STEP 5: Define helper functions\n",
        "def is_adjective(word):\n",
        "    doc = nlp(word)\n",
        "    return any(token.pos_ == \"ADJ\" for token in doc)\n",
        "\n",
        "def get_similar_adjectives(word, topn=10):\n",
        "    try:\n",
        "        # Access the word vectors using model.wv\n",
        "        similar_words = model.wv.most_similar(word, topn=topn)\n",
        "        return [\n",
        "            (word_str, round(score, 3))\n",
        "            for word_str, score in similar_words\n",
        "            # Also check if the word is in the model's vocabulary before processing\n",
        "            if word_str.isalpha() and is_adjective(word_str) and word_str in model.wv.key_to_index\n",
        "        ]\n",
        "    except KeyError:\n",
        "        # Handle cases where the word is not in the vocabulary\n",
        "        print(f\"Warning: Word '{word}' not found in vocabulary.\")\n",
        "        return []\n",
        "\n",
        "# STEP 6: Find similar adjectives\n",
        "similar_adjectives_dict = {}\n",
        "\n",
        "for adj in all_adjectives:\n",
        "    # Lowercase and check if the word is in the model's vocabulary before calling get_similar_adjectives\n",
        "    adj_lower = adj.lower()\n",
        "    if adj_lower in model.wv.key_to_index:\n",
        "        similar_adjectives = get_similar_adjectives(adj_lower)\n",
        "        similar_adjectives_dict[adj] = similar_adjectives\n",
        "    else:\n",
        "        print(f\"Warning: Base adjective '{adj}' not found in vocabulary.\")\n",
        "        similar_adjectives_dict[adj] = []\n",
        "\n",
        "\n",
        "# STEP 7: Save to CSV\n",
        "rows = []\n",
        "for base_adj, similars in similar_adjectives_dict.items():\n",
        "    for similar, score in similars:\n",
        "        rows.append({\"Base Adjective\": base_adj, \"Similar Adjective\": similar, \"Similarity Score\": score})\n",
        "\n",
        "df = pd.DataFrame(rows)\n",
        "df.to_csv(\"similar_adjectives_filtered.csv\", index=False)\n",
        "\n",
        "print(\"✅ Done! CSV saved as 'similar_adjectives_filtered.csv'\")"
      ],
      "metadata": {
        "colab": {
          "base_uri": "https://localhost:8080/"
        },
        "id": "FsY6Vb6zZpx7",
        "outputId": "498324b6-6baf-46ec-ed27-7a98a3ce72ed"
      },
      "execution_count": null,
      "outputs": [
        {
          "output_type": "stream",
          "name": "stdout",
          "text": [
            "Requirement already satisfied: gensim in /usr/local/lib/python3.11/dist-packages (4.3.1)\n",
            "Requirement already satisfied: spacy in /usr/local/lib/python3.11/dist-packages (3.8.5)\n",
            "Requirement already satisfied: numpy>=1.18.5 in /usr/local/lib/python3.11/dist-packages (from gensim) (1.24.4)\n",
            "Requirement already satisfied: scipy>=1.7.0 in /usr/local/lib/python3.11/dist-packages (from gensim) (1.10.1)\n",
            "Requirement already satisfied: smart-open>=1.8.1 in /usr/local/lib/python3.11/dist-packages (from gensim) (7.1.0)\n",
            "Requirement already satisfied: spacy-legacy<3.1.0,>=3.0.11 in /usr/local/lib/python3.11/dist-packages (from spacy) (3.0.12)\n",
            "Requirement already satisfied: spacy-loggers<2.0.0,>=1.0.0 in /usr/local/lib/python3.11/dist-packages (from spacy) (1.0.5)\n",
            "Requirement already satisfied: murmurhash<1.1.0,>=0.28.0 in /usr/local/lib/python3.11/dist-packages (from spacy) (1.0.12)\n",
            "Requirement already satisfied: cymem<2.1.0,>=2.0.2 in /usr/local/lib/python3.11/dist-packages (from spacy) (2.0.11)\n",
            "Requirement already satisfied: preshed<3.1.0,>=3.0.2 in /usr/local/lib/python3.11/dist-packages (from spacy) (3.0.9)\n",
            "Requirement already satisfied: thinc<8.4.0,>=8.3.4 in /usr/local/lib/python3.11/dist-packages (from spacy) (8.3.4)\n",
            "Requirement already satisfied: wasabi<1.2.0,>=0.9.1 in /usr/local/lib/python3.11/dist-packages (from spacy) (1.1.3)\n",
            "Requirement already satisfied: srsly<3.0.0,>=2.4.3 in /usr/local/lib/python3.11/dist-packages (from spacy) (2.5.1)\n",
            "Requirement already satisfied: catalogue<2.1.0,>=2.0.6 in /usr/local/lib/python3.11/dist-packages (from spacy) (2.0.10)\n",
            "Requirement already satisfied: weasel<0.5.0,>=0.1.0 in /usr/local/lib/python3.11/dist-packages (from spacy) (0.4.1)\n",
            "Requirement already satisfied: typer<1.0.0,>=0.3.0 in /usr/local/lib/python3.11/dist-packages (from spacy) (0.15.3)\n",
            "Requirement already satisfied: tqdm<5.0.0,>=4.38.0 in /usr/local/lib/python3.11/dist-packages (from spacy) (4.67.1)\n",
            "Requirement already satisfied: requests<3.0.0,>=2.13.0 in /usr/local/lib/python3.11/dist-packages (from spacy) (2.32.3)\n",
            "Requirement already satisfied: pydantic!=1.8,!=1.8.1,<3.0.0,>=1.7.4 in /usr/local/lib/python3.11/dist-packages (from spacy) (2.11.4)\n",
            "Requirement already satisfied: jinja2 in /usr/local/lib/python3.11/dist-packages (from spacy) (3.1.6)\n",
            "Requirement already satisfied: setuptools in /usr/local/lib/python3.11/dist-packages (from spacy) (75.2.0)\n",
            "Requirement already satisfied: packaging>=20.0 in /usr/local/lib/python3.11/dist-packages (from spacy) (24.2)\n",
            "Requirement already satisfied: langcodes<4.0.0,>=3.2.0 in /usr/local/lib/python3.11/dist-packages (from spacy) (3.5.0)\n",
            "Requirement already satisfied: language-data>=1.2 in /usr/local/lib/python3.11/dist-packages (from langcodes<4.0.0,>=3.2.0->spacy) (1.3.0)\n",
            "Requirement already satisfied: annotated-types>=0.6.0 in /usr/local/lib/python3.11/dist-packages (from pydantic!=1.8,!=1.8.1,<3.0.0,>=1.7.4->spacy) (0.7.0)\n",
            "Requirement already satisfied: pydantic-core==2.33.2 in /usr/local/lib/python3.11/dist-packages (from pydantic!=1.8,!=1.8.1,<3.0.0,>=1.7.4->spacy) (2.33.2)\n",
            "Requirement already satisfied: typing-extensions>=4.12.2 in /usr/local/lib/python3.11/dist-packages (from pydantic!=1.8,!=1.8.1,<3.0.0,>=1.7.4->spacy) (4.13.2)\n",
            "Requirement already satisfied: typing-inspection>=0.4.0 in /usr/local/lib/python3.11/dist-packages (from pydantic!=1.8,!=1.8.1,<3.0.0,>=1.7.4->spacy) (0.4.0)\n",
            "Requirement already satisfied: charset-normalizer<4,>=2 in /usr/local/lib/python3.11/dist-packages (from requests<3.0.0,>=2.13.0->spacy) (3.4.2)\n",
            "Requirement already satisfied: idna<4,>=2.5 in /usr/local/lib/python3.11/dist-packages (from requests<3.0.0,>=2.13.0->spacy) (3.10)\n",
            "Requirement already satisfied: urllib3<3,>=1.21.1 in /usr/local/lib/python3.11/dist-packages (from requests<3.0.0,>=2.13.0->spacy) (2.4.0)\n",
            "Requirement already satisfied: certifi>=2017.4.17 in /usr/local/lib/python3.11/dist-packages (from requests<3.0.0,>=2.13.0->spacy) (2025.4.26)\n",
            "Requirement already satisfied: wrapt in /usr/local/lib/python3.11/dist-packages (from smart-open>=1.8.1->gensim) (1.17.2)\n",
            "Requirement already satisfied: blis<1.3.0,>=1.2.0 in /usr/local/lib/python3.11/dist-packages (from thinc<8.4.0,>=8.3.4->spacy) (1.2.1)\n",
            "Requirement already satisfied: confection<1.0.0,>=0.0.1 in /usr/local/lib/python3.11/dist-packages (from thinc<8.4.0,>=8.3.4->spacy) (0.1.5)\n",
            "Requirement already satisfied: click>=8.0.0 in /usr/local/lib/python3.11/dist-packages (from typer<1.0.0,>=0.3.0->spacy) (8.2.0)\n",
            "Requirement already satisfied: shellingham>=1.3.0 in /usr/local/lib/python3.11/dist-packages (from typer<1.0.0,>=0.3.0->spacy) (1.5.4)\n",
            "Requirement already satisfied: rich>=10.11.0 in /usr/local/lib/python3.11/dist-packages (from typer<1.0.0,>=0.3.0->spacy) (13.9.4)\n",
            "Requirement already satisfied: cloudpathlib<1.0.0,>=0.7.0 in /usr/local/lib/python3.11/dist-packages (from weasel<0.5.0,>=0.1.0->spacy) (0.21.0)\n",
            "Requirement already satisfied: MarkupSafe>=2.0 in /usr/local/lib/python3.11/dist-packages (from jinja2->spacy) (3.0.2)\n",
            "Requirement already satisfied: marisa-trie>=1.1.0 in /usr/local/lib/python3.11/dist-packages (from language-data>=1.2->langcodes<4.0.0,>=3.2.0->spacy) (1.2.1)\n",
            "Requirement already satisfied: markdown-it-py>=2.2.0 in /usr/local/lib/python3.11/dist-packages (from rich>=10.11.0->typer<1.0.0,>=0.3.0->spacy) (3.0.0)\n",
            "Requirement already satisfied: pygments<3.0.0,>=2.13.0 in /usr/local/lib/python3.11/dist-packages (from rich>=10.11.0->typer<1.0.0,>=0.3.0->spacy) (2.19.1)\n",
            "Requirement already satisfied: mdurl~=0.1 in /usr/local/lib/python3.11/dist-packages (from markdown-it-py>=2.2.0->rich>=10.11.0->typer<1.0.0,>=0.3.0->spacy) (0.1.2)\n",
            "Collecting en-core-web-sm==3.8.0\n",
            "  Downloading https://github.com/explosion/spacy-models/releases/download/en_core_web_sm-3.8.0/en_core_web_sm-3.8.0-py3-none-any.whl (12.8 MB)\n",
            "\u001b[2K     \u001b[90m━━━━━━━━━━━━━━━━━━━━━━━━━━━━━━━━━━━━━━━\u001b[0m \u001b[32m12.8/12.8 MB\u001b[0m \u001b[31m110.0 MB/s\u001b[0m eta \u001b[36m0:00:00\u001b[0m\n",
            "\u001b[?25h\u001b[38;5;2m✔ Download and installation successful\u001b[0m\n",
            "You can now load the package via spacy.load('en_core_web_sm')\n",
            "\u001b[38;5;3m⚠ Restart to reload dependencies\u001b[0m\n",
            "If you are in a Jupyter or Colab notebook, you may need to restart Python in\n",
            "order to load all the package's dependencies. You can do this by selecting the\n",
            "'Restart kernel' or 'Restart runtime' option.\n",
            "Warning: Base adjective 'goal-oriented' not found in vocabulary.\n",
            "Warning: Base adjective 'self-assured' not found in vocabulary.\n",
            "Warning: Base adjective 'self-denying' not found in vocabulary.\n",
            "✅ Done! CSV saved as 'similar_adjectives_filtered.csv'\n"
          ]
        }
      ]
    }
  ]
}